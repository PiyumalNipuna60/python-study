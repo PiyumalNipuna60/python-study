{
  "nbformat": 4,
  "nbformat_minor": 0,
  "metadata": {
    "colab": {
      "provenance": []
    },
    "kernelspec": {
      "name": "python3",
      "display_name": "Python 3"
    },
    "language_info": {
      "name": "python"
    }
  },
  "cells": [
    {
      "cell_type": "markdown",
      "source": [
        "# * method / funtion\n",
        "\n",
        "   * args\n",
        "   * kwargs\n",
        "\n",
        "   * inner funtion\n",
        "\n",
        "   *@ annotaion\n",
        "   * exeption"
      ],
      "metadata": {
        "id": "RfoJPtF42ngF"
      }
    },
    {
      "cell_type": "code",
      "execution_count": null,
      "metadata": {
        "colab": {
          "base_uri": "https://localhost:8080/"
        },
        "id": "gQJV_3Pn2ZUz",
        "outputId": "c8650a22-afee-4c47-e758-b2d8d1aa858f"
      },
      "outputs": [
        {
          "output_type": "stream",
          "name": "stdout",
          "text": [
            "values print \n"
          ]
        }
      ],
      "source": [
        "def print_value():\n",
        "  print(\"values print \")\n",
        "\n",
        "print_value()"
      ]
    },
    {
      "cell_type": "code",
      "source": [
        "def print_value(a,b):\n",
        "  print(\"values print \")\n",
        "\n",
        "print_value()"
      ],
      "metadata": {
        "colab": {
          "base_uri": "https://localhost:8080/",
          "height": 210
        },
        "id": "gxfL_K0oqGCZ",
        "outputId": "f47ea5e3-dc97-4c6f-ce68-aaf3e7a2681f"
      },
      "execution_count": null,
      "outputs": [
        {
          "output_type": "error",
          "ename": "TypeError",
          "evalue": "ignored",
          "traceback": [
            "\u001b[0;31m---------------------------------------------------------------------------\u001b[0m",
            "\u001b[0;31mTypeError\u001b[0m                                 Traceback (most recent call last)",
            "\u001b[0;32m<ipython-input-3-80095d3cb8a6>\u001b[0m in \u001b[0;36m<cell line: 4>\u001b[0;34m()\u001b[0m\n\u001b[1;32m      2\u001b[0m   \u001b[0mprint\u001b[0m\u001b[0;34m(\u001b[0m\u001b[0;34m\"values print \"\u001b[0m\u001b[0;34m)\u001b[0m\u001b[0;34m\u001b[0m\u001b[0;34m\u001b[0m\u001b[0m\n\u001b[1;32m      3\u001b[0m \u001b[0;34m\u001b[0m\u001b[0m\n\u001b[0;32m----> 4\u001b[0;31m \u001b[0mprint_value\u001b[0m\u001b[0;34m(\u001b[0m\u001b[0;34m)\u001b[0m\u001b[0;34m\u001b[0m\u001b[0;34m\u001b[0m\u001b[0m\n\u001b[0m",
            "\u001b[0;31mTypeError\u001b[0m: print_value() missing 2 required positional arguments: 'a' and 'b'"
          ]
        }
      ]
    },
    {
      "cell_type": "code",
      "source": [
        "def print_value(a,b):\n",
        "  print(\"values print \",a,\" \",b)\n",
        "\n",
        "print_value(10,20)"
      ],
      "metadata": {
        "colab": {
          "base_uri": "https://localhost:8080/"
        },
        "id": "e_iL4eaoqQnY",
        "outputId": "07d6be98-ad24-4105-9363-b8da2c2939bc"
      },
      "execution_count": null,
      "outputs": [
        {
          "output_type": "stream",
          "name": "stdout",
          "text": [
            "values print  10   20\n"
          ]
        }
      ]
    },
    {
      "cell_type": "code",
      "source": [
        "def print_value(a=10,b=30):\n",
        "  print(\"values print \",a,\" \",b)\n",
        "\n",
        "print_value()"
      ],
      "metadata": {
        "colab": {
          "base_uri": "https://localhost:8080/"
        },
        "id": "B6cUb1XfqYDK",
        "outputId": "e3e0bf12-317c-4fd6-f8ed-45ba8612f36b"
      },
      "execution_count": null,
      "outputs": [
        {
          "output_type": "stream",
          "name": "stdout",
          "text": [
            "values print  10   30\n"
          ]
        }
      ]
    },
    {
      "cell_type": "code",
      "source": [
        "def print_value(a=10,b=30):\n",
        "  print(\"values print \",a,\" \",b)\n",
        "\n",
        "print_value(100,200)"
      ],
      "metadata": {
        "colab": {
          "base_uri": "https://localhost:8080/"
        },
        "id": "yZn3J95KqdaI",
        "outputId": "8b10d5e2-b756-47b8-9ea3-81b7f471ee09"
      },
      "execution_count": null,
      "outputs": [
        {
          "output_type": "stream",
          "name": "stdout",
          "text": [
            "values print  100   200\n"
          ]
        }
      ]
    },
    {
      "cell_type": "code",
      "source": [
        "def print_value(a=10,b):\n",
        "  print(\"values print \",a,\" \",b)\n",
        "\n",
        "print_value()"
      ],
      "metadata": {
        "colab": {
          "base_uri": "https://localhost:8080/",
          "height": 140
        },
        "id": "6WFzOzNyqkpH",
        "outputId": "4f504e55-994b-4f3b-a8cd-ff3e6b0e9cee"
      },
      "execution_count": null,
      "outputs": [
        {
          "output_type": "error",
          "ename": "SyntaxError",
          "evalue": "ignored",
          "traceback": [
            "\u001b[0;36m  File \u001b[0;32m\"<ipython-input-10-c4c628ec2d9f>\"\u001b[0;36m, line \u001b[0;32m1\u001b[0m\n\u001b[0;31m    def print_value(a=10,b):\u001b[0m\n\u001b[0m                         ^\u001b[0m\n\u001b[0;31mSyntaxError\u001b[0m\u001b[0;31m:\u001b[0m non-default argument follows default argument\n"
          ]
        }
      ]
    },
    {
      "cell_type": "code",
      "source": [
        "def print_value(a,b=20):\n",
        "  print(\"values print \",a,\" \",b)\n",
        "\n",
        "print_value()"
      ],
      "metadata": {
        "colab": {
          "base_uri": "https://localhost:8080/",
          "height": 210
        },
        "id": "4A6fLQfVqqIW",
        "outputId": "e3e67092-7213-4000-a2ed-b91ae940f831"
      },
      "execution_count": null,
      "outputs": [
        {
          "output_type": "error",
          "ename": "TypeError",
          "evalue": "ignored",
          "traceback": [
            "\u001b[0;31m---------------------------------------------------------------------------\u001b[0m",
            "\u001b[0;31mTypeError\u001b[0m                                 Traceback (most recent call last)",
            "\u001b[0;32m<ipython-input-11-36f7baabf58c>\u001b[0m in \u001b[0;36m<cell line: 4>\u001b[0;34m()\u001b[0m\n\u001b[1;32m      2\u001b[0m   \u001b[0mprint\u001b[0m\u001b[0;34m(\u001b[0m\u001b[0;34m\"values print \"\u001b[0m\u001b[0;34m,\u001b[0m\u001b[0ma\u001b[0m\u001b[0;34m,\u001b[0m\u001b[0;34m\" \"\u001b[0m\u001b[0;34m,\u001b[0m\u001b[0mb\u001b[0m\u001b[0;34m)\u001b[0m\u001b[0;34m\u001b[0m\u001b[0;34m\u001b[0m\u001b[0m\n\u001b[1;32m      3\u001b[0m \u001b[0;34m\u001b[0m\u001b[0m\n\u001b[0;32m----> 4\u001b[0;31m \u001b[0mprint_value\u001b[0m\u001b[0;34m(\u001b[0m\u001b[0;34m)\u001b[0m\u001b[0;34m\u001b[0m\u001b[0;34m\u001b[0m\u001b[0m\n\u001b[0m",
            "\u001b[0;31mTypeError\u001b[0m: print_value() missing 1 required positional argument: 'a'"
          ]
        }
      ]
    },
    {
      "cell_type": "code",
      "source": [
        "def print_value(a=10,b):\n",
        "  print(\"values print \",a,\" \",b)\n",
        "\n",
        "print_value(50)"
      ],
      "metadata": {
        "colab": {
          "base_uri": "https://localhost:8080/",
          "height": 140
        },
        "id": "Dy0n7nCrqtJX",
        "outputId": "dc3a96c7-4cbe-4f19-f766-c8d6f4bc83a5"
      },
      "execution_count": null,
      "outputs": [
        {
          "output_type": "error",
          "ename": "SyntaxError",
          "evalue": "ignored",
          "traceback": [
            "\u001b[0;36m  File \u001b[0;32m\"<ipython-input-12-83efb8d5f4e1>\"\u001b[0;36m, line \u001b[0;32m1\u001b[0m\n\u001b[0;31m    def print_value(a=10,b):\u001b[0m\n\u001b[0m                         ^\u001b[0m\n\u001b[0;31mSyntaxError\u001b[0m\u001b[0;31m:\u001b[0m non-default argument follows default argument\n"
          ]
        }
      ]
    },
    {
      "cell_type": "code",
      "source": [
        "def print_value(a,b=90):\n",
        "  print(\"values print \",a,\" \",b)\n",
        "\n",
        "print_value(50)"
      ],
      "metadata": {
        "colab": {
          "base_uri": "https://localhost:8080/"
        },
        "id": "5NSs8jWAq3Z5",
        "outputId": "fad5daa4-74ff-4052-a144-2069ba9b4eb9"
      },
      "execution_count": null,
      "outputs": [
        {
          "output_type": "stream",
          "name": "stdout",
          "text": [
            "values print  50   90\n"
          ]
        }
      ]
    },
    {
      "cell_type": "code",
      "source": [
        "def sum_value(a,b):\n",
        "  return a+b\n",
        "\n",
        "sum_value(5,10)"
      ],
      "metadata": {
        "id": "AKblCvGOq7CY",
        "colab": {
          "base_uri": "https://localhost:8080/"
        },
        "outputId": "52827163-77da-4764-c183-b8b6ffaabbda"
      },
      "execution_count": null,
      "outputs": [
        {
          "output_type": "execute_result",
          "data": {
            "text/plain": [
              "15"
            ]
          },
          "metadata": {},
          "execution_count": 1
        }
      ]
    },
    {
      "cell_type": "code",
      "source": [
        "def cal_rectangle(a,b):\n",
        "  return a*b\n",
        "\n",
        "def cal_triangle(a,b):\n",
        "  return a*b/10\n",
        "\n",
        "def area_calculator(a,b,calculator):\n",
        "  area=calculator(a,b)\n",
        "  print(\"Area : \",area,\" using : \",calculator)\n",
        "\n",
        "area_calculator(10,20,cal_rectangle)\n",
        "area_calculator(10,20,cal_triangle)"
      ],
      "metadata": {
        "colab": {
          "base_uri": "https://localhost:8080/"
        },
        "id": "VMT5aFPAPg47",
        "outputId": "93212f63-e807-43b7-de96-eb71d1cf03f9"
      },
      "execution_count": null,
      "outputs": [
        {
          "output_type": "stream",
          "name": "stdout",
          "text": [
            "Area :  200  using :  <function cal_rectangle at 0x7cc2ce4948b0>\n",
            "Area :  20.0  using :  <function cal_triangle at 0x7cc2ce495990>\n"
          ]
        }
      ]
    },
    {
      "cell_type": "code",
      "source": [
        "def funn_a(*args):\n",
        "  print(args)\n",
        "\n",
        "funn_a(2,4,6,85,\"256\")"
      ],
      "metadata": {
        "colab": {
          "base_uri": "https://localhost:8080/"
        },
        "id": "7V7APnrwQg6e",
        "outputId": "b4dc3392-2198-4a99-9fce-4eb4d9a8a1b0"
      },
      "execution_count": null,
      "outputs": [
        {
          "output_type": "stream",
          "name": "stdout",
          "text": [
            "(2, 4, 6, 85, '256')\n"
          ]
        }
      ]
    },
    {
      "cell_type": "code",
      "source": [
        "def funn_b(**kwargs):\n",
        "  print(kwargs)\n",
        "\n",
        "funn_a(2,4,6,85,\"256\")"
      ],
      "metadata": {
        "colab": {
          "base_uri": "https://localhost:8080/"
        },
        "id": "26pjvRH1Qtt2",
        "outputId": "e811ce95-2f04-4e8d-9336-f8b42f1ca7b7"
      },
      "execution_count": null,
      "outputs": [
        {
          "output_type": "stream",
          "name": "stdout",
          "text": [
            "(2, 4, 6, 85, '256')\n"
          ]
        }
      ]
    },
    {
      "cell_type": "code",
      "source": [
        "def funn_b(**kwargs):\n",
        "  print(kwargs)\n",
        "\n",
        "funn_b(name=\"piyumal\",age=\"25\")"
      ],
      "metadata": {
        "colab": {
          "base_uri": "https://localhost:8080/"
        },
        "id": "ffUrB36XQ54v",
        "outputId": "baeeeb9e-86be-40be-9f54-e8471f66422f"
      },
      "execution_count": null,
      "outputs": [
        {
          "output_type": "stream",
          "name": "stdout",
          "text": [
            "{'name': 'piyumal', 'age': '25'}\n"
          ]
        }
      ]
    },
    {
      "cell_type": "code",
      "source": [
        "def funn_c(*args):\n",
        "  print(args)\n",
        "\n",
        "funn_c(name=\"piyumal\",age=\"25\")"
      ],
      "metadata": {
        "colab": {
          "base_uri": "https://localhost:8080/",
          "height": 210
        },
        "id": "6VP05eZNRAsG",
        "outputId": "4fc3d1a4-067e-400b-d8b1-40d03d215845"
      },
      "execution_count": null,
      "outputs": [
        {
          "output_type": "error",
          "ename": "TypeError",
          "evalue": "funn_c() got an unexpected keyword argument 'name'",
          "traceback": [
            "\u001b[0;31m---------------------------------------------------------------------------\u001b[0m",
            "\u001b[0;31mTypeError\u001b[0m                                 Traceback (most recent call last)",
            "\u001b[0;32m<ipython-input-10-395b875f1621>\u001b[0m in \u001b[0;36m<cell line: 4>\u001b[0;34m()\u001b[0m\n\u001b[1;32m      2\u001b[0m   \u001b[0mprint\u001b[0m\u001b[0;34m(\u001b[0m\u001b[0margs\u001b[0m\u001b[0;34m)\u001b[0m\u001b[0;34m\u001b[0m\u001b[0;34m\u001b[0m\u001b[0m\n\u001b[1;32m      3\u001b[0m \u001b[0;34m\u001b[0m\u001b[0m\n\u001b[0;32m----> 4\u001b[0;31m \u001b[0mfunn_c\u001b[0m\u001b[0;34m(\u001b[0m\u001b[0mname\u001b[0m\u001b[0;34m=\u001b[0m\u001b[0;34m\"piyumal\"\u001b[0m\u001b[0;34m,\u001b[0m\u001b[0mage\u001b[0m\u001b[0;34m=\u001b[0m\u001b[0;34m\"25\"\u001b[0m\u001b[0;34m)\u001b[0m\u001b[0;34m\u001b[0m\u001b[0;34m\u001b[0m\u001b[0m\n\u001b[0m",
            "\u001b[0;31mTypeError\u001b[0m: funn_c() got an unexpected keyword argument 'name'"
          ]
        }
      ]
    },
    {
      "cell_type": "code",
      "source": [
        "def funn_d(*args,**kwargs):\n",
        "  print(args)\n",
        "  print(kwargs)\n",
        "\n",
        "funn_d(5,25,485,\"5\",name=\"piyumal\",age=\"25\")"
      ],
      "metadata": {
        "colab": {
          "base_uri": "https://localhost:8080/"
        },
        "id": "Uj1HNkRWRUbV",
        "outputId": "373d1304-43e3-4591-f73a-875cab95646e"
      },
      "execution_count": null,
      "outputs": [
        {
          "output_type": "stream",
          "name": "stdout",
          "text": [
            "(5, 25, 485, '5')\n",
            "{'name': 'piyumal', 'age': '25'}\n"
          ]
        }
      ]
    },
    {
      "cell_type": "code",
      "source": [
        "def funn_e(a,b,c,d):\n",
        "  print(\"a : \",a)\n",
        "  print(\"b : \",b)\n",
        "  print(\"c : \",c)\n",
        "  print(\"d : \",d)\n",
        "\n",
        "funn_e(2,4,6,3)\n"
      ],
      "metadata": {
        "id": "rP1MogNNRfrP",
        "colab": {
          "base_uri": "https://localhost:8080/"
        },
        "outputId": "176df80e-04cc-4d0b-9777-eb345bc2f384"
      },
      "execution_count": null,
      "outputs": [
        {
          "output_type": "stream",
          "name": "stdout",
          "text": [
            "a :  2\n",
            "b :  4\n",
            "c :  6\n",
            "d :  3\n"
          ]
        }
      ]
    },
    {
      "cell_type": "code",
      "source": [
        "def funn_e(a=0,b=0,c=0,d=0):\n",
        "  print(\"a : \",a)\n",
        "  print(\"b : \",b)\n",
        "  print(\"c : \",c)\n",
        "  print(\"d : \",d)\n",
        "\n",
        "funn_e(d=10)"
      ],
      "metadata": {
        "colab": {
          "base_uri": "https://localhost:8080/"
        },
        "id": "r_fcUgMzAOVa",
        "outputId": "5c57301c-130a-4766-daa5-d91d76d70d60"
      },
      "execution_count": null,
      "outputs": [
        {
          "output_type": "stream",
          "name": "stdout",
          "text": [
            "a :  0\n",
            "b :  0\n",
            "c :  0\n",
            "d :  10\n"
          ]
        }
      ]
    },
    {
      "cell_type": "code",
      "source": [
        "funn_e(3,40,d=10)"
      ],
      "metadata": {
        "colab": {
          "base_uri": "https://localhost:8080/"
        },
        "id": "jjJVva1bAddL",
        "outputId": "0555ca2e-572d-4e1b-e04a-6659115dc167"
      },
      "execution_count": null,
      "outputs": [
        {
          "output_type": "stream",
          "name": "stdout",
          "text": [
            "a :  3\n",
            "b :  40\n",
            "c :  0\n",
            "d :  10\n"
          ]
        }
      ]
    },
    {
      "cell_type": "code",
      "source": [
        "def funn_f(a=0,b=0,c=0,d=0,*args,**kwargs):\n",
        "  print(\"a : \",a)\n",
        "  print(\"b : \",b)\n",
        "  print(\"c : \",c)\n",
        "  print(\"d : \",d)\n",
        "  print(\"args : \",args)\n",
        "  print(\"kwargs : \",kwargs)\n",
        "\n",
        "funn_f(d=10)"
      ],
      "metadata": {
        "id": "eZgb6A1UAwan",
        "colab": {
          "base_uri": "https://localhost:8080/"
        },
        "outputId": "e91fcbe8-912a-410e-b4e7-841fa58a04c5"
      },
      "execution_count": 2,
      "outputs": [
        {
          "output_type": "stream",
          "name": "stdout",
          "text": [
            "a :  0\n",
            "b :  0\n",
            "c :  0\n",
            "d :  10\n",
            "args :  ()\n",
            "kwargs :  {}\n"
          ]
        }
      ]
    },
    {
      "cell_type": "code",
      "source": [
        "funn_f(10,2,3,4,3,2,name=\"kamal\")"
      ],
      "metadata": {
        "colab": {
          "base_uri": "https://localhost:8080/"
        },
        "id": "NW69GFdLdWRm",
        "outputId": "7bc99a34-7216-465f-cdec-9e289fc22921"
      },
      "execution_count": 7,
      "outputs": [
        {
          "output_type": "stream",
          "name": "stdout",
          "text": [
            "a :  10\n",
            "b :  2\n",
            "c :  3\n",
            "d :  4\n",
            "args :  (3, 2)\n",
            "kwargs :  {'name': 'kamal'}\n"
          ]
        }
      ]
    },
    {
      "cell_type": "code",
      "source": [
        "funn_f(d=10,ab=2,name=\"kamal\")"
      ],
      "metadata": {
        "colab": {
          "base_uri": "https://localhost:8080/"
        },
        "id": "SZpAzoi1dxwu",
        "outputId": "be60f78c-435e-41e8-d3c8-633f44a018bb"
      },
      "execution_count": 8,
      "outputs": [
        {
          "output_type": "stream",
          "name": "stdout",
          "text": [
            "a :  0\n",
            "b :  0\n",
            "c :  0\n",
            "d :  10\n",
            "args :  ()\n",
            "kwargs :  {'ab': 2, 'name': 'kamal'}\n"
          ]
        }
      ]
    },
    {
      "cell_type": "markdown",
      "source": [
        "-----\n",
        "## inner funtion\n",
        "-----"
      ],
      "metadata": {
        "id": "82sTlkKmfwX8"
      }
    },
    {
      "cell_type": "code",
      "source": [
        "def A():\n",
        "  print(\"a\")\n",
        "\n",
        "  def B():\n",
        "    print(\"b\")\n",
        "\n",
        "A()\n"
      ],
      "metadata": {
        "colab": {
          "base_uri": "https://localhost:8080/"
        },
        "id": "_Uva8WJfd2g9",
        "outputId": "97c4a4b1-5b5b-4fe3-ad45-deef4f5d9092"
      },
      "execution_count": 9,
      "outputs": [
        {
          "output_type": "stream",
          "name": "stdout",
          "text": [
            "a\n"
          ]
        }
      ]
    },
    {
      "cell_type": "code",
      "source": [
        "#don't this access\n",
        "A().B()"
      ],
      "metadata": {
        "colab": {
          "base_uri": "https://localhost:8080/",
          "height": 210
        },
        "id": "YKy0SPeNgNzf",
        "outputId": "118b342c-2f21-47b5-abb7-168f43a0b52c"
      },
      "execution_count": 10,
      "outputs": [
        {
          "output_type": "stream",
          "name": "stdout",
          "text": [
            "a\n"
          ]
        },
        {
          "output_type": "error",
          "ename": "AttributeError",
          "evalue": "'NoneType' object has no attribute 'B'",
          "traceback": [
            "\u001b[0;31m---------------------------------------------------------------------------\u001b[0m",
            "\u001b[0;31mAttributeError\u001b[0m                            Traceback (most recent call last)",
            "\u001b[0;32m<ipython-input-10-fc059dced7e7>\u001b[0m in \u001b[0;36m<cell line: 2>\u001b[0;34m()\u001b[0m\n\u001b[1;32m      1\u001b[0m \u001b[0;31m#don't this access\u001b[0m\u001b[0;34m\u001b[0m\u001b[0;34m\u001b[0m\u001b[0m\n\u001b[0;32m----> 2\u001b[0;31m \u001b[0mA\u001b[0m\u001b[0;34m(\u001b[0m\u001b[0;34m)\u001b[0m\u001b[0;34m.\u001b[0m\u001b[0mB\u001b[0m\u001b[0;34m(\u001b[0m\u001b[0;34m)\u001b[0m\u001b[0;34m\u001b[0m\u001b[0;34m\u001b[0m\u001b[0m\n\u001b[0m",
            "\u001b[0;31mAttributeError\u001b[0m: 'NoneType' object has no attribute 'B'"
          ]
        }
      ]
    },
    {
      "cell_type": "code",
      "source": [
        "#access karanna puluvan palaveni vidiha\n",
        "def A():\n",
        "  print(\"a\")\n",
        "\n",
        "  def B():\n",
        "    print(\"b\")\n",
        "\n",
        "  B()\n",
        "\n",
        "A()"
      ],
      "metadata": {
        "colab": {
          "base_uri": "https://localhost:8080/"
        },
        "id": "wKKZu9xugV72",
        "outputId": "bc517057-e2df-4b2e-8ee9-19a9eb9874eb"
      },
      "execution_count": 11,
      "outputs": [
        {
          "output_type": "stream",
          "name": "stdout",
          "text": [
            "a\n",
            "b\n"
          ]
        }
      ]
    },
    {
      "cell_type": "code",
      "source": [
        "#access karanna puluvan deveni vidiha\n",
        "def A():\n",
        "  print(\"a\")\n",
        "\n",
        "  def B():\n",
        "    print(\"b\")\n",
        "\n",
        "  return B\n",
        "\n",
        "A()"
      ],
      "metadata": {
        "colab": {
          "base_uri": "https://localhost:8080/"
        },
        "id": "mDF5n-ORgce-",
        "outputId": "1aa4e007-d705-4a39-aff0-a0064f71f754"
      },
      "execution_count": 13,
      "outputs": [
        {
          "output_type": "stream",
          "name": "stdout",
          "text": [
            "a\n"
          ]
        },
        {
          "output_type": "execute_result",
          "data": {
            "text/plain": [
              "<function __main__.A.<locals>.B()>"
            ]
          },
          "metadata": {},
          "execution_count": 13
        }
      ]
    },
    {
      "cell_type": "code",
      "source": [
        "#Wront option\n",
        "A().B()"
      ],
      "metadata": {
        "colab": {
          "base_uri": "https://localhost:8080/",
          "height": 192
        },
        "id": "m5WaRJKUgpcX",
        "outputId": "381d389e-e795-449e-e2e7-043d7ac6c562"
      },
      "execution_count": 14,
      "outputs": [
        {
          "output_type": "stream",
          "name": "stdout",
          "text": [
            "a\n"
          ]
        },
        {
          "output_type": "error",
          "ename": "AttributeError",
          "evalue": "'function' object has no attribute 'B'",
          "traceback": [
            "\u001b[0;31m---------------------------------------------------------------------------\u001b[0m",
            "\u001b[0;31mAttributeError\u001b[0m                            Traceback (most recent call last)",
            "\u001b[0;32m<ipython-input-14-c31eef3275a2>\u001b[0m in \u001b[0;36m<cell line: 1>\u001b[0;34m()\u001b[0m\n\u001b[0;32m----> 1\u001b[0;31m \u001b[0mA\u001b[0m\u001b[0;34m(\u001b[0m\u001b[0;34m)\u001b[0m\u001b[0;34m.\u001b[0m\u001b[0mB\u001b[0m\u001b[0;34m(\u001b[0m\u001b[0;34m)\u001b[0m\u001b[0;34m\u001b[0m\u001b[0;34m\u001b[0m\u001b[0m\n\u001b[0m",
            "\u001b[0;31mAttributeError\u001b[0m: 'function' object has no attribute 'B'"
          ]
        }
      ]
    },
    {
      "cell_type": "code",
      "source": [
        "A()()"
      ],
      "metadata": {
        "colab": {
          "base_uri": "https://localhost:8080/"
        },
        "id": "HmSkdKTjg-T-",
        "outputId": "8b35cf82-19af-4871-db8b-5d48fd991d71"
      },
      "execution_count": 15,
      "outputs": [
        {
          "output_type": "stream",
          "name": "stdout",
          "text": [
            "a\n",
            "b\n"
          ]
        }
      ]
    },
    {
      "cell_type": "code",
      "source": [
        "def A():\n",
        "  print(\"a\")\n",
        "\n",
        "  def B():\n",
        "    print(\"b\")\n",
        "\n",
        "    def C():\n",
        "      print(\"c\")\n",
        "\n",
        "    return C\n",
        "\n",
        "  return B\n",
        "\n",
        "A()"
      ],
      "metadata": {
        "colab": {
          "base_uri": "https://localhost:8080/"
        },
        "id": "2o0_PESahFGO",
        "outputId": "cf89812e-80da-46c4-b85e-2099fb6d0dd7"
      },
      "execution_count": 16,
      "outputs": [
        {
          "output_type": "stream",
          "name": "stdout",
          "text": [
            "a\n"
          ]
        },
        {
          "output_type": "execute_result",
          "data": {
            "text/plain": [
              "<function __main__.A.<locals>.B()>"
            ]
          },
          "metadata": {},
          "execution_count": 16
        }
      ]
    },
    {
      "cell_type": "code",
      "source": [
        "A()()"
      ],
      "metadata": {
        "colab": {
          "base_uri": "https://localhost:8080/"
        },
        "id": "pqpZ7vw7hVXu",
        "outputId": "dd69ce02-70a0-4d5a-a064-ca16c9dcd12b"
      },
      "execution_count": 18,
      "outputs": [
        {
          "output_type": "stream",
          "name": "stdout",
          "text": [
            "a\n",
            "b\n"
          ]
        },
        {
          "output_type": "execute_result",
          "data": {
            "text/plain": [
              "<function __main__.A.<locals>.B.<locals>.C()>"
            ]
          },
          "metadata": {},
          "execution_count": 18
        }
      ]
    },
    {
      "cell_type": "code",
      "source": [
        "A()()()"
      ],
      "metadata": {
        "colab": {
          "base_uri": "https://localhost:8080/"
        },
        "id": "TeiRmzvHhXt2",
        "outputId": "506636c6-fd41-4306-965f-3f4d9c41390a"
      },
      "execution_count": 19,
      "outputs": [
        {
          "output_type": "stream",
          "name": "stdout",
          "text": [
            "a\n",
            "b\n",
            "c\n"
          ]
        }
      ]
    },
    {
      "cell_type": "code",
      "source": [
        "def A(x,y):\n",
        "\n",
        "  def B():\n",
        "    return x+y\n",
        "\n",
        "  return B\n",
        "\n",
        "A(10,20)()"
      ],
      "metadata": {
        "colab": {
          "base_uri": "https://localhost:8080/"
        },
        "id": "Mm3vXhARhcId",
        "outputId": "6e2f2730-6cd5-4ea2-c70b-9541bc5df8d2"
      },
      "execution_count": 21,
      "outputs": [
        {
          "output_type": "execute_result",
          "data": {
            "text/plain": [
              "30"
            ]
          },
          "metadata": {},
          "execution_count": 21
        }
      ]
    },
    {
      "cell_type": "code",
      "source": [
        "import datetime\n",
        "\n",
        "def hellow_1():\n",
        "  print(datetime.datetime.now(), end=\" : \")\n",
        "  print(\"hellow_1\")\n",
        "\n",
        "def hellow_2():\n",
        "  print(datetime.datetime.now(), end=\" : \")\n",
        "  print(\"hellow_2\")\n",
        "\n",
        "\n",
        "hellow_1()\n",
        "hellow_2()"
      ],
      "metadata": {
        "colab": {
          "base_uri": "https://localhost:8080/"
        },
        "id": "H7rrCOyQizHG",
        "outputId": "cc5c2d34-a96f-4214-dd8c-c5ae0fca59be"
      },
      "execution_count": 27,
      "outputs": [
        {
          "output_type": "stream",
          "name": "stdout",
          "text": [
            "2024-01-17 17:54:54.616222 : hellow_1\n",
            "2024-01-17 17:54:54.616907 : hellow_2\n"
          ]
        }
      ]
    },
    {
      "cell_type": "code",
      "source": [
        "import datetime\n",
        "\n",
        "def log(func):\n",
        "\n",
        "  def wrapper():\n",
        "    print(datetime.datetime.now(), end=\" : \")\n",
        "    func()\n",
        "\n",
        "  return wrapper\n",
        "\n",
        "def hellow_1():\n",
        "  print(\"hellow_1\")\n",
        "\n",
        "def hellow_2():\n",
        "  print(\"hellow_2\")\n",
        "\n",
        "\n",
        "log(hellow_1)()\n",
        "log(hellow_2)()"
      ],
      "metadata": {
        "colab": {
          "base_uri": "https://localhost:8080/"
        },
        "id": "fQZ_uSvGjx2W",
        "outputId": "10efa804-8c6b-426b-f9ea-43dd980fa721"
      },
      "execution_count": 30,
      "outputs": [
        {
          "output_type": "stream",
          "name": "stdout",
          "text": [
            "2024-01-17 17:59:23.185140 : hellow_1\n",
            "2024-01-17 17:59:23.185692 : hellow_2\n"
          ]
        }
      ]
    },
    {
      "cell_type": "code",
      "source": [
        "x1=log(hellow_1)\n",
        "x1()"
      ],
      "metadata": {
        "colab": {
          "base_uri": "https://localhost:8080/"
        },
        "id": "oOR7DqX7k3un",
        "outputId": "d668c354-1c0d-48d8-91cb-f76150f605dc"
      },
      "execution_count": 34,
      "outputs": [
        {
          "output_type": "stream",
          "name": "stdout",
          "text": [
            "2024-01-17 18:03:16.297551 : hellow_1\n"
          ]
        }
      ]
    },
    {
      "cell_type": "markdown",
      "source": [
        "  # @ annotaion"
      ],
      "metadata": {
        "id": "k3dwluHqmGFp"
      }
    },
    {
      "cell_type": "code",
      "source": [
        "import datetime\n",
        "\n",
        "def log(func):\n",
        "\n",
        "  def wrapper():\n",
        "    print(datetime.datetime.now(), end=\" : \")\n",
        "    func()\n",
        "\n",
        "  return wrapper\n",
        "\n",
        "@log\n",
        "def hellow_1():\n",
        "  print(\"hellow_1\")\n",
        "\n",
        "@log\n",
        "def hellow_2():\n",
        "  print(\"hellow_2\")\n",
        "\n",
        "\n",
        "\n",
        "hellow_1()\n",
        "hellow_2()"
      ],
      "metadata": {
        "colab": {
          "base_uri": "https://localhost:8080/"
        },
        "id": "dTn-Vaj5lmxo",
        "outputId": "2f2b56cb-c8eb-4af5-d2e6-e7627801ece8"
      },
      "execution_count": 39,
      "outputs": [
        {
          "output_type": "stream",
          "name": "stdout",
          "text": [
            "2024-01-17 18:07:43.823308 : hellow_1\n",
            "2024-01-17 18:07:43.825772 : hellow_2\n"
          ]
        }
      ]
    },
    {
      "cell_type": "markdown",
      "source": [
        "@log ==>  \n",
        "\n",
        "      m1=log(hellow_1)\n",
        "      m1()"
      ],
      "metadata": {
        "id": "M8-wV8i8oFLk"
      }
    },
    {
      "cell_type": "markdown",
      "source": [
        "----\n",
        "# exeption\n",
        "----"
      ],
      "metadata": {
        "id": "QD3_r1fvoiNM"
      }
    },
    {
      "cell_type": "code",
      "source": [
        "#ZeroDivisionError exeption\n",
        "a=10/0"
      ],
      "metadata": {
        "colab": {
          "base_uri": "https://localhost:8080/",
          "height": 175
        },
        "id": "BuSZRMi-mUQQ",
        "outputId": "153f025c-3744-4ecb-8128-4635683430c5"
      },
      "execution_count": 40,
      "outputs": [
        {
          "output_type": "error",
          "ename": "ZeroDivisionError",
          "evalue": "division by zero",
          "traceback": [
            "\u001b[0;31m---------------------------------------------------------------------------\u001b[0m",
            "\u001b[0;31mZeroDivisionError\u001b[0m                         Traceback (most recent call last)",
            "\u001b[0;32m<ipython-input-40-a400d2ea563b>\u001b[0m in \u001b[0;36m<cell line: 1>\u001b[0;34m()\u001b[0m\n\u001b[0;32m----> 1\u001b[0;31m \u001b[0ma\u001b[0m\u001b[0;34m=\u001b[0m\u001b[0;36m10\u001b[0m\u001b[0;34m/\u001b[0m\u001b[0;36m0\u001b[0m\u001b[0;34m\u001b[0m\u001b[0;34m\u001b[0m\u001b[0m\n\u001b[0m",
            "\u001b[0;31mZeroDivisionError\u001b[0m: division by zero"
          ]
        }
      ]
    },
    {
      "cell_type": "code",
      "source": [
        "try:\n",
        "  a=10/0\n",
        "except:\n",
        "  print(\"Invalied Oparation..!\")"
      ],
      "metadata": {
        "colab": {
          "base_uri": "https://localhost:8080/"
        },
        "id": "G1J6SM9UovkD",
        "outputId": "6db79cd1-ca9d-4863-86b1-fa4c4b75e74f"
      },
      "execution_count": 41,
      "outputs": [
        {
          "output_type": "stream",
          "name": "stdout",
          "text": [
            "Invalied Oparation..!\n"
          ]
        }
      ]
    },
    {
      "cell_type": "code",
      "source": [
        "try:\n",
        "  a=10/0\n",
        "except Exception as e:\n",
        "  print(\"Invalied Oparation..!\",e)"
      ],
      "metadata": {
        "colab": {
          "base_uri": "https://localhost:8080/"
        },
        "id": "RNiLBJ1upTYI",
        "outputId": "a271a0f5-62ff-4b76-e870-51421dfcb893"
      },
      "execution_count": 42,
      "outputs": [
        {
          "output_type": "stream",
          "name": "stdout",
          "text": [
            "Invalied Oparation..! division by zero\n"
          ]
        }
      ]
    },
    {
      "cell_type": "code",
      "source": [
        "def test(a,b):\n",
        "  return a/b\n",
        "\n",
        "test(10,0)"
      ],
      "metadata": {
        "colab": {
          "base_uri": "https://localhost:8080/",
          "height": 314
        },
        "id": "UJ-ASCYcpcgA",
        "outputId": "7591bee1-8f6c-4400-cb75-d87ee8359845"
      },
      "execution_count": 43,
      "outputs": [
        {
          "output_type": "error",
          "ename": "ZeroDivisionError",
          "evalue": "division by zero",
          "traceback": [
            "\u001b[0;31m---------------------------------------------------------------------------\u001b[0m",
            "\u001b[0;31mZeroDivisionError\u001b[0m                         Traceback (most recent call last)",
            "\u001b[0;32m<ipython-input-43-8b90f29f4637>\u001b[0m in \u001b[0;36m<cell line: 4>\u001b[0;34m()\u001b[0m\n\u001b[1;32m      2\u001b[0m   \u001b[0;32mreturn\u001b[0m \u001b[0ma\u001b[0m\u001b[0;34m/\u001b[0m\u001b[0mb\u001b[0m\u001b[0;34m\u001b[0m\u001b[0;34m\u001b[0m\u001b[0m\n\u001b[1;32m      3\u001b[0m \u001b[0;34m\u001b[0m\u001b[0m\n\u001b[0;32m----> 4\u001b[0;31m \u001b[0mtest\u001b[0m\u001b[0;34m(\u001b[0m\u001b[0;36m10\u001b[0m\u001b[0;34m,\u001b[0m\u001b[0;36m0\u001b[0m\u001b[0;34m)\u001b[0m\u001b[0;34m\u001b[0m\u001b[0;34m\u001b[0m\u001b[0m\n\u001b[0m",
            "\u001b[0;32m<ipython-input-43-8b90f29f4637>\u001b[0m in \u001b[0;36mtest\u001b[0;34m(a, b)\u001b[0m\n\u001b[1;32m      1\u001b[0m \u001b[0;32mdef\u001b[0m \u001b[0mtest\u001b[0m\u001b[0;34m(\u001b[0m\u001b[0ma\u001b[0m\u001b[0;34m,\u001b[0m\u001b[0mb\u001b[0m\u001b[0;34m)\u001b[0m\u001b[0;34m:\u001b[0m\u001b[0;34m\u001b[0m\u001b[0;34m\u001b[0m\u001b[0m\n\u001b[0;32m----> 2\u001b[0;31m   \u001b[0;32mreturn\u001b[0m \u001b[0ma\u001b[0m\u001b[0;34m/\u001b[0m\u001b[0mb\u001b[0m\u001b[0;34m\u001b[0m\u001b[0;34m\u001b[0m\u001b[0m\n\u001b[0m\u001b[1;32m      3\u001b[0m \u001b[0;34m\u001b[0m\u001b[0m\n\u001b[1;32m      4\u001b[0m \u001b[0mtest\u001b[0m\u001b[0;34m(\u001b[0m\u001b[0;36m10\u001b[0m\u001b[0;34m,\u001b[0m\u001b[0;36m0\u001b[0m\u001b[0;34m)\u001b[0m\u001b[0;34m\u001b[0m\u001b[0;34m\u001b[0m\u001b[0m\n",
            "\u001b[0;31mZeroDivisionError\u001b[0m: division by zero"
          ]
        }
      ]
    },
    {
      "cell_type": "code",
      "source": [
        "def test(a,b):\n",
        "  try:\n",
        "    return a/b\n",
        "  except Exception as e:\n",
        "    return \"Invalied Oparation..!\",e\n",
        "\n",
        "test(10,0)"
      ],
      "metadata": {
        "colab": {
          "base_uri": "https://localhost:8080/"
        },
        "id": "ji_msD_CqajI",
        "outputId": "0bc40fe0-1639-4930-97d6-69c984983d92"
      },
      "execution_count": 46,
      "outputs": [
        {
          "output_type": "execute_result",
          "data": {
            "text/plain": [
              "('Invalied Oparation..!', ZeroDivisionError('division by zero'))"
            ]
          },
          "metadata": {},
          "execution_count": 46
        }
      ]
    },
    {
      "cell_type": "code",
      "source": [
        "def Exeption_handle(func):\n",
        "\n",
        "  def wrapper(a,b):\n",
        "    try:\n",
        "      return func(a,b)\n",
        "    except Exception as e:\n",
        "      return \"Invalied Oparation..!\",e\n",
        "\n",
        "  return wrapper\n",
        "\n",
        "@Exeption_handle\n",
        "def test(a,b):\n",
        "  return a/b\n",
        "\n",
        "test(10,0)"
      ],
      "metadata": {
        "colab": {
          "base_uri": "https://localhost:8080/"
        },
        "id": "_Vi6cg71qpAt",
        "outputId": "c0a777e8-7f89-4223-cd98-564913ea4727"
      },
      "execution_count": 56,
      "outputs": [
        {
          "output_type": "execute_result",
          "data": {
            "text/plain": [
              "('Invalied Oparation..!', ZeroDivisionError('division by zero'))"
            ]
          },
          "metadata": {},
          "execution_count": 56
        }
      ]
    },
    {
      "cell_type": "code",
      "source": [
        "@Exeption_handle\n",
        "def test(a,b,c):\n",
        "  return (a/b)/c\n",
        "\n",
        "#argument ganana vadi\n",
        "test(10,2,3)"
      ],
      "metadata": {
        "colab": {
          "base_uri": "https://localhost:8080/",
          "height": 210
        },
        "id": "k0OUCM_GrUBR",
        "outputId": "b9f99d27-a821-474c-b4c0-cc8a705f96b4"
      },
      "execution_count": 57,
      "outputs": [
        {
          "output_type": "error",
          "ename": "TypeError",
          "evalue": "Exeption_handle.<locals>.wrapper() takes 2 positional arguments but 3 were given",
          "traceback": [
            "\u001b[0;31m---------------------------------------------------------------------------\u001b[0m",
            "\u001b[0;31mTypeError\u001b[0m                                 Traceback (most recent call last)",
            "\u001b[0;32m<ipython-input-57-cd3707d4c523>\u001b[0m in \u001b[0;36m<cell line: 5>\u001b[0;34m()\u001b[0m\n\u001b[1;32m      3\u001b[0m   \u001b[0;32mreturn\u001b[0m \u001b[0;34m(\u001b[0m\u001b[0ma\u001b[0m\u001b[0;34m/\u001b[0m\u001b[0mb\u001b[0m\u001b[0;34m)\u001b[0m\u001b[0;34m/\u001b[0m\u001b[0mc\u001b[0m\u001b[0;34m\u001b[0m\u001b[0;34m\u001b[0m\u001b[0m\n\u001b[1;32m      4\u001b[0m \u001b[0;34m\u001b[0m\u001b[0m\n\u001b[0;32m----> 5\u001b[0;31m \u001b[0mtest\u001b[0m\u001b[0;34m(\u001b[0m\u001b[0;36m10\u001b[0m\u001b[0;34m,\u001b[0m\u001b[0;36m2\u001b[0m\u001b[0;34m,\u001b[0m\u001b[0;36m3\u001b[0m\u001b[0;34m)\u001b[0m\u001b[0;34m\u001b[0m\u001b[0;34m\u001b[0m\u001b[0m\n\u001b[0m",
            "\u001b[0;31mTypeError\u001b[0m: Exeption_handle.<locals>.wrapper() takes 2 positional arguments but 3 were given"
          ]
        }
      ]
    },
    {
      "cell_type": "code",
      "source": [
        "def Exeption_handle(func):\n",
        "\n",
        "  def wrapper(*args,**kwargs):\n",
        "    try:\n",
        "      return func(*args,**kwargs)\n",
        "    except Exception as e:\n",
        "      return \"Invalied Oparation..!\",e\n",
        "\n",
        "  return wrapper\n",
        "\n",
        "@Exeption_handle\n",
        "def test(a,b,c):\n",
        "  return (a/b)/c\n",
        "\n",
        "print(test(10,0,0))\n",
        "print(test(10,2,5))"
      ],
      "metadata": {
        "colab": {
          "base_uri": "https://localhost:8080/"
        },
        "id": "pdIhm1DbsRya",
        "outputId": "3b276943-fbd1-488f-f670-b57b785530ab"
      },
      "execution_count": 64,
      "outputs": [
        {
          "output_type": "stream",
          "name": "stdout",
          "text": [
            "('Invalied Oparation..!', ZeroDivisionError('division by zero'))\n",
            "1.0\n"
          ]
        }
      ]
    },
    {
      "cell_type": "code",
      "source": [],
      "metadata": {
        "id": "qv8d26XhskjR"
      },
      "execution_count": null,
      "outputs": []
    }
  ]
}