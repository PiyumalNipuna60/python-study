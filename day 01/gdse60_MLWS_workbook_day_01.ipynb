{
  "nbformat": 4,
  "nbformat_minor": 0,
  "metadata": {
    "colab": {
      "provenance": []
    },
    "kernelspec": {
      "name": "python3",
      "display_name": "Python 3"
    },
    "language_info": {
      "name": "python"
    }
  },
  "cells": [
    {
      "cell_type": "code",
      "source": [
        "!python --version"
      ],
      "metadata": {
        "colab": {
          "base_uri": "https://localhost:8080/"
        },
        "id": "8GES0rWRMlB3",
        "outputId": "60110c10-f130-4e5a-e13a-ac884fdd2690"
      },
      "execution_count": null,
      "outputs": [
        {
          "output_type": "stream",
          "name": "stdout",
          "text": [
            "Python 3.10.12\n"
          ]
        }
      ]
    },
    {
      "cell_type": "markdown",
      "source": [
        "## variable\n",
        "\n",
        "....\n",
        "- how to use\n",
        "-dict\n",
        "-list\n",
        "-tuple\n",
        "\n",
        "\n",
        "## flow controller\n",
        "\n",
        "- if\n",
        "- else if\n",
        "- while\n",
        "- for\n",
        "\n",
        "## ** oop\n",
        "\n",
        "- funtion(method)\n",
        "- class\n",
        "- abstraction class\n",
        "- interface\n",
        "- overloding/override\n",
        "\n"
      ],
      "metadata": {
        "id": "A5W8qUJlM7XM"
      }
    },
    {
      "cell_type": "code",
      "source": [
        "print(\"Hellow piyumal\")"
      ],
      "metadata": {
        "colab": {
          "base_uri": "https://localhost:8080/"
        },
        "id": "Xf8R4OVJM0D-",
        "outputId": "06f268a0-daad-4f7b-b2e2-d314e969d700"
      },
      "execution_count": null,
      "outputs": [
        {
          "output_type": "stream",
          "name": "stdout",
          "text": [
            "Hellow piyumal\n"
          ]
        }
      ]
    },
    {
      "cell_type": "code",
      "source": [
        "a=10\n",
        "b=10.5\n",
        "c=\"kamal\"\n",
        "print(a)\n",
        "print(b)\n",
        "print(c)"
      ],
      "metadata": {
        "colab": {
          "base_uri": "https://localhost:8080/"
        },
        "id": "iiImltcSQ_YO",
        "outputId": "e8a7a029-f21d-4dc7-f326-9706591cf937"
      },
      "execution_count": null,
      "outputs": [
        {
          "output_type": "stream",
          "name": "stdout",
          "text": [
            "10\n",
            "10.5\n",
            "kamal\n"
          ]
        }
      ]
    },
    {
      "cell_type": "code",
      "source": [
        "a=10\n",
        "b=20\n",
        "print(a+b)"
      ],
      "metadata": {
        "colab": {
          "base_uri": "https://localhost:8080/"
        },
        "id": "q4kDqOarROMa",
        "outputId": "4d0eb821-6ef9-4711-856d-6fcc6d48d251"
      },
      "execution_count": null,
      "outputs": [
        {
          "output_type": "stream",
          "name": "stdout",
          "text": [
            "30\n"
          ]
        }
      ]
    },
    {
      "cell_type": "code",
      "source": [
        "a=10\n",
        "b=\"5\"\n",
        "print(a+b)"
      ],
      "metadata": {
        "colab": {
          "base_uri": "https://localhost:8080/",
          "height": 210
        },
        "id": "2cFadLXHRqHG",
        "outputId": "405820b5-cab9-402a-9426-67c8bff5575b"
      },
      "execution_count": null,
      "outputs": [
        {
          "output_type": "error",
          "ename": "TypeError",
          "evalue": "ignored",
          "traceback": [
            "\u001b[0;31m---------------------------------------------------------------------------\u001b[0m",
            "\u001b[0;31mTypeError\u001b[0m                                 Traceback (most recent call last)",
            "\u001b[0;32m<ipython-input-10-73af8618e4ce>\u001b[0m in \u001b[0;36m<cell line: 3>\u001b[0;34m()\u001b[0m\n\u001b[1;32m      1\u001b[0m \u001b[0ma\u001b[0m\u001b[0;34m=\u001b[0m\u001b[0;36m10\u001b[0m\u001b[0;34m\u001b[0m\u001b[0;34m\u001b[0m\u001b[0m\n\u001b[1;32m      2\u001b[0m \u001b[0mb\u001b[0m\u001b[0;34m=\u001b[0m\u001b[0;34m\"5\"\u001b[0m\u001b[0;34m\u001b[0m\u001b[0;34m\u001b[0m\u001b[0m\n\u001b[0;32m----> 3\u001b[0;31m \u001b[0mprint\u001b[0m\u001b[0;34m(\u001b[0m\u001b[0ma\u001b[0m\u001b[0;34m+\u001b[0m\u001b[0mb\u001b[0m\u001b[0;34m)\u001b[0m\u001b[0;34m\u001b[0m\u001b[0;34m\u001b[0m\u001b[0m\n\u001b[0m",
            "\u001b[0;31mTypeError\u001b[0m: unsupported operand type(s) for +: 'int' and 'str'"
          ]
        }
      ]
    },
    {
      "cell_type": "code",
      "source": [
        "a=10\n",
        "b=\"5\"\n",
        "print(type(a))\n",
        "print(type(b))"
      ],
      "metadata": {
        "colab": {
          "base_uri": "https://localhost:8080/"
        },
        "id": "sgWDPtqTSuJV",
        "outputId": "9c34701d-18b2-4575-e12e-e695bc454b1f"
      },
      "execution_count": null,
      "outputs": [
        {
          "output_type": "stream",
          "name": "stdout",
          "text": [
            "<class 'int'>\n",
            "<class 'str'>\n"
          ]
        }
      ]
    },
    {
      "cell_type": "markdown",
      "source": [
        "### area calculator\n",
        "\n",
        "area=height*width"
      ],
      "metadata": {
        "id": "ud2g-OmbTUSP"
      }
    },
    {
      "cell_type": "code",
      "source": [
        "height=10\n",
        "width=20\n",
        "area=height*width\n",
        "print(\"Area is : \",area)"
      ],
      "metadata": {
        "colab": {
          "base_uri": "https://localhost:8080/"
        },
        "id": "0VP1ll82S0lK",
        "outputId": "768ab4a8-e00d-49b5-9520-7c5ce431789b"
      },
      "execution_count": null,
      "outputs": [
        {
          "output_type": "stream",
          "name": "stdout",
          "text": [
            "Area is :  200\n"
          ]
        }
      ]
    },
    {
      "cell_type": "markdown",
      "source": [
        "## method creation"
      ],
      "metadata": {
        "id": "Mfw0tuMnUadn"
      }
    },
    {
      "cell_type": "code",
      "source": [
        "def area_calculator(height,width):\n",
        "  area=height*width\n",
        "  print(area)\n",
        "\n",
        "area_calculator(50,100)"
      ],
      "metadata": {
        "colab": {
          "base_uri": "https://localhost:8080/"
        },
        "id": "_aOlyHckT6d2",
        "outputId": "3797a234-23a1-4ef5-905f-dfdb2d031724"
      },
      "execution_count": null,
      "outputs": [
        {
          "output_type": "stream",
          "name": "stdout",
          "text": [
            "5000\n"
          ]
        }
      ]
    },
    {
      "cell_type": "code",
      "source": [
        "class Students:  #class name start is capital\n",
        "  print (\"piyumal\")\n",
        "\n",
        "  def getAge():  #method name start is simpale\n",
        "    print(\"24\")\n",
        "\n",
        "  getAge()  # camal case use\n",
        ""
      ],
      "metadata": {
        "colab": {
          "base_uri": "https://localhost:8080/"
        },
        "id": "PSQNevVoTfRL",
        "outputId": "05588e42-4bdb-4dd8-b8fb-30c01654cc1a"
      },
      "execution_count": 2,
      "outputs": [
        {
          "output_type": "stream",
          "name": "stdout",
          "text": [
            "piyumal\n",
            "24\n"
          ]
        }
      ]
    },
    {
      "cell_type": "markdown",
      "source": [
        "- if / elaseif / else"
      ],
      "metadata": {
        "id": "XxFG0-_eNswN"
      }
    },
    {
      "cell_type": "code",
      "source": [
        "age=10;\n",
        "if age>5:\n",
        "  print(\"he is go to school\");"
      ],
      "metadata": {
        "colab": {
          "base_uri": "https://localhost:8080/"
        },
        "id": "se4AeporLRHQ",
        "outputId": "a0cae712-8f3e-4ecc-d2f2-5ce695b6cbf1"
      },
      "execution_count": 3,
      "outputs": [
        {
          "output_type": "stream",
          "name": "stdout",
          "text": [
            "he is go to school\n"
          ]
        }
      ]
    },
    {
      "cell_type": "code",
      "source": [
        "def check_age(age):\n",
        "  if age>5:\n",
        "    print(\"he is go to school\");\n",
        "  else:\n",
        "    print(\"he is go don't to school\");\n",
        "\n",
        "check_age(4)"
      ],
      "metadata": {
        "colab": {
          "base_uri": "https://localhost:8080/"
        },
        "id": "MxiJhILjN-Yx",
        "outputId": "3a13cdee-3e84-41e4-b91a-3dfd07cf876b"
      },
      "execution_count": 5,
      "outputs": [
        {
          "output_type": "stream",
          "name": "stdout",
          "text": [
            "he is go don't to school\n"
          ]
        }
      ]
    },
    {
      "cell_type": "code",
      "source": [
        "def check_age(age):\n",
        "  if age>7:\n",
        "    print(\"grade 7\");\n",
        "  elif age>=6:\n",
        "    print(\"grade 6\");\n",
        "  elif age>5:\n",
        "    print(\"grade 5\");\n",
        "  else:\n",
        "    print(\"he is go don't to school\");\n",
        "\n",
        "check_age(4)\n",
        "check_age(6)"
      ],
      "metadata": {
        "colab": {
          "base_uri": "https://localhost:8080/"
        },
        "id": "yUr6nB2COPUp",
        "outputId": "ed7eb4fe-e61c-4a98-bb55-5198a115dd8e"
      },
      "execution_count": 11,
      "outputs": [
        {
          "output_type": "stream",
          "name": "stdout",
          "text": [
            "he is go don't to school\n",
            "grade 6\n"
          ]
        }
      ]
    },
    {
      "cell_type": "markdown",
      "source": [
        "- # list"
      ],
      "metadata": {
        "id": "9sKBefQuLSmU"
      }
    },
    {
      "cell_type": "code",
      "source": [
        "age_list=[10,20,30,40,50]\n",
        "print(age_list)\n",
        "print(type(age_list)) #list type"
      ],
      "metadata": {
        "colab": {
          "base_uri": "https://localhost:8080/"
        },
        "id": "zWKrQ5-pO2PE",
        "outputId": "3abf1f39-26f5-40e9-c5fa-6ebb07f294b3"
      },
      "execution_count": 1,
      "outputs": [
        {
          "output_type": "stream",
          "name": "stdout",
          "text": [
            "[10, 20, 30, 40, 50]\n",
            "<class 'list'>\n"
          ]
        }
      ]
    },
    {
      "cell_type": "markdown",
      "source": [
        "- # dict"
      ],
      "metadata": {
        "id": "YAB6R9bcLZ0t"
      }
    },
    {
      "cell_type": "code",
      "source": [
        "thisdict = {\n",
        "  \"brand\": \"Ford\",\n",
        "  \"model\": \"Mustang\",\n",
        "  \"year\": 1964\n",
        "}\n",
        "print(thisdict)\n",
        "print(type(thisdict)) #dict type"
      ],
      "metadata": {
        "colab": {
          "base_uri": "https://localhost:8080/"
        },
        "id": "3LdbRX7kLf_y",
        "outputId": "a2ac5683-008b-4524-f957-9eceba8ef38a"
      },
      "execution_count": 6,
      "outputs": [
        {
          "output_type": "stream",
          "name": "stdout",
          "text": [
            "{'brand': 'Ford', 'model': 'Mustang', 'year': 1964}\n",
            "<class 'dict'>\n"
          ]
        }
      ]
    },
    {
      "cell_type": "markdown",
      "source": [
        "- # tuple"
      ],
      "metadata": {
        "id": "1RAH1sW0MTLW"
      }
    },
    {
      "cell_type": "code",
      "source": [
        "thistuple = (\"apple\", \"banana\", \"cherry\")\n",
        "print(thistuple)\n",
        "print(type(thistuple))"
      ],
      "metadata": {
        "colab": {
          "base_uri": "https://localhost:8080/"
        },
        "id": "m_0pS0V9MHW1",
        "outputId": "539f7f8f-bc05-4de1-96d1-a6cb2484889a"
      },
      "execution_count": 4,
      "outputs": [
        {
          "output_type": "stream",
          "name": "stdout",
          "text": [
            "('apple', 'banana', 'cherry')\n",
            "<class 'tuple'>\n"
          ]
        }
      ]
    },
    {
      "cell_type": "code",
      "source": [
        "sum(age_list)  #pridifine method\n",
        "\n",
        "for i in range(age_list):\n",
        "  sum+=age_list"
      ],
      "metadata": {
        "colab": {
          "base_uri": "https://localhost:8080/",
          "height": 227
        },
        "id": "Sw89YJB6PZoP",
        "outputId": "723d699b-d349-4ab8-ade1-43cbac9f0477"
      },
      "execution_count": 31,
      "outputs": [
        {
          "output_type": "error",
          "ename": "TypeError",
          "evalue": "ignored",
          "traceback": [
            "\u001b[0;31m---------------------------------------------------------------------------\u001b[0m",
            "\u001b[0;31mTypeError\u001b[0m                                 Traceback (most recent call last)",
            "\u001b[0;32m<ipython-input-31-f56188661411>\u001b[0m in \u001b[0;36m<cell line: 3>\u001b[0;34m()\u001b[0m\n\u001b[1;32m      1\u001b[0m \u001b[0msum\u001b[0m\u001b[0;34m(\u001b[0m\u001b[0mage_list\u001b[0m\u001b[0;34m)\u001b[0m  \u001b[0;31m#pridifine method\u001b[0m\u001b[0;34m\u001b[0m\u001b[0;34m\u001b[0m\u001b[0m\n\u001b[1;32m      2\u001b[0m \u001b[0;34m\u001b[0m\u001b[0m\n\u001b[0;32m----> 3\u001b[0;31m \u001b[0;32mfor\u001b[0m \u001b[0mi\u001b[0m \u001b[0;32min\u001b[0m \u001b[0mrange\u001b[0m\u001b[0;34m(\u001b[0m\u001b[0mage_list\u001b[0m\u001b[0;34m)\u001b[0m\u001b[0;34m:\u001b[0m\u001b[0;34m\u001b[0m\u001b[0;34m\u001b[0m\u001b[0m\n\u001b[0m\u001b[1;32m      4\u001b[0m   \u001b[0msum\u001b[0m\u001b[0;34m+=\u001b[0m\u001b[0mage_list\u001b[0m\u001b[0;34m\u001b[0m\u001b[0;34m\u001b[0m\u001b[0m\n",
            "\u001b[0;31mTypeError\u001b[0m: 'list' object cannot be interpreted as an integer"
          ]
        }
      ]
    },
    {
      "cell_type": "code",
      "source": [
        "min(age_list)"
      ],
      "metadata": {
        "colab": {
          "base_uri": "https://localhost:8080/"
        },
        "id": "svqNLsOIPfhd",
        "outputId": "8f82d447-3819-4798-97e2-a8648274e0ac"
      },
      "execution_count": 15,
      "outputs": [
        {
          "output_type": "execute_result",
          "data": {
            "text/plain": [
              "10"
            ]
          },
          "metadata": {},
          "execution_count": 15
        }
      ]
    },
    {
      "cell_type": "code",
      "source": [
        "max(age_list)"
      ],
      "metadata": {
        "colab": {
          "base_uri": "https://localhost:8080/"
        },
        "id": "dlGQU2YBPjeA",
        "outputId": "932a4433-8dde-4ca5-ef2d-389d2c69b615"
      },
      "execution_count": 16,
      "outputs": [
        {
          "output_type": "execute_result",
          "data": {
            "text/plain": [
              "50"
            ]
          },
          "metadata": {},
          "execution_count": 16
        }
      ]
    },
    {
      "cell_type": "code",
      "source": [
        "len(age_list)"
      ],
      "metadata": {
        "colab": {
          "base_uri": "https://localhost:8080/"
        },
        "id": "Rdc5ofL1PlVW",
        "outputId": "828703f2-8e5e-4d56-9ddb-57e5ab3bb5aa"
      },
      "execution_count": 17,
      "outputs": [
        {
          "output_type": "execute_result",
          "data": {
            "text/plain": [
              "5"
            ]
          },
          "metadata": {},
          "execution_count": 17
        }
      ]
    },
    {
      "cell_type": "code",
      "source": [
        "rn=range(10)\n",
        "print(rn)\n",
        "print(type(rn))"
      ],
      "metadata": {
        "colab": {
          "base_uri": "https://localhost:8080/"
        },
        "id": "eYtjyFcLPnpL",
        "outputId": "344f3184-bc87-4d3f-b153-e35beeaae112"
      },
      "execution_count": 19,
      "outputs": [
        {
          "output_type": "stream",
          "name": "stdout",
          "text": [
            "range(0, 10)\n",
            "<class 'range'>\n"
          ]
        }
      ]
    },
    {
      "cell_type": "code",
      "source": [
        "list=(range(2))\n",
        "print(list)"
      ],
      "metadata": {
        "colab": {
          "base_uri": "https://localhost:8080/"
        },
        "id": "G7gWZZU5P3F7",
        "outputId": "31dd0cd4-cb07-4ddc-cd71-8086a0e87670"
      },
      "execution_count": 21,
      "outputs": [
        {
          "output_type": "stream",
          "name": "stdout",
          "text": [
            "range(0, 2)\n"
          ]
        }
      ]
    },
    {
      "cell_type": "markdown",
      "source": [
        "- # for loop"
      ],
      "metadata": {
        "id": "1wSYFgMmQMyq"
      }
    },
    {
      "cell_type": "code",
      "source": [
        "for eliment in age_list:\n",
        "  print(eliment)"
      ],
      "metadata": {
        "colab": {
          "base_uri": "https://localhost:8080/"
        },
        "id": "BT5W-owFP87p",
        "outputId": "31b9d77b-2123-48ec-81a2-63fdad768def"
      },
      "execution_count": 22,
      "outputs": [
        {
          "output_type": "stream",
          "name": "stdout",
          "text": [
            "10\n",
            "20\n",
            "30\n",
            "40\n",
            "50\n"
          ]
        }
      ]
    },
    {
      "cell_type": "code",
      "source": [
        "for i in range(10):\n",
        "  print(i)"
      ],
      "metadata": {
        "colab": {
          "base_uri": "https://localhost:8080/"
        },
        "id": "ZSNoO5B6Qois",
        "outputId": "30e045e0-f337-4462-8982-4b165da460d5"
      },
      "execution_count": 26,
      "outputs": [
        {
          "output_type": "stream",
          "name": "stdout",
          "text": [
            "0\n",
            "1\n",
            "2\n",
            "3\n",
            "4\n",
            "5\n",
            "6\n",
            "7\n",
            "8\n",
            "9\n"
          ]
        }
      ]
    },
    {
      "cell_type": "code",
      "source": [
        "for i in range(len(age_list)):\n",
        "  print(i)"
      ],
      "metadata": {
        "colab": {
          "base_uri": "https://localhost:8080/"
        },
        "id": "h8k5xRERQyl3",
        "outputId": "cabbb9c2-e231-4610-fe32-28b1b235ac53"
      },
      "execution_count": 28,
      "outputs": [
        {
          "output_type": "stream",
          "name": "stdout",
          "text": [
            "0\n",
            "1\n",
            "2\n",
            "3\n",
            "4\n"
          ]
        }
      ]
    },
    {
      "cell_type": "code",
      "source": [
        "for i in range(len(age_list)):\n",
        "  print(age_list[i])"
      ],
      "metadata": {
        "colab": {
          "base_uri": "https://localhost:8080/"
        },
        "id": "RFqCU_9pRljc",
        "outputId": "4b5d7dfa-b1ca-47e9-c9ba-5f903d642a97"
      },
      "execution_count": 30,
      "outputs": [
        {
          "output_type": "stream",
          "name": "stdout",
          "text": [
            "10\n",
            "20\n",
            "30\n",
            "40\n",
            "50\n"
          ]
        }
      ]
    },
    {
      "cell_type": "code",
      "source": [
        "number=[2,9,1,4,3,2,6,5,4]\n",
        "\n",
        "print(len(number))\n",
        "for j in range(len(number)):\n",
        "  for i in range(len(number)-1):\n",
        "    if number[j]+number[i]>10:\n",
        "     print(j,i)"
      ],
      "metadata": {
        "colab": {
          "base_uri": "https://localhost:8080/"
        },
        "id": "gInCQamcRxHF",
        "outputId": "88bb7869-fa15-483b-875c-dabae22e7268"
      },
      "execution_count": 13,
      "outputs": [
        {
          "output_type": "stream",
          "name": "stdout",
          "text": [
            "9\n",
            "0 1\n",
            "1 0\n",
            "1 1\n",
            "1 3\n",
            "1 4\n",
            "1 5\n",
            "1 6\n",
            "1 7\n",
            "3 1\n",
            "4 1\n",
            "5 1\n",
            "6 1\n",
            "6 6\n",
            "6 7\n",
            "7 1\n",
            "7 6\n",
            "8 1\n"
          ]
        }
      ]
    }
  ]
}